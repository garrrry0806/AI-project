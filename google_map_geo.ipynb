{
  "nbformat": 4,
  "nbformat_minor": 0,
  "metadata": {
    "colab": {
      "name": "google_map_geo.ipynb",
      "provenance": [],
      "authorship_tag": "ABX9TyPdFU+zKu+jbj1zPvEwseFB",
      "include_colab_link": true
    },
    "kernelspec": {
      "name": "python3",
      "display_name": "Python 3"
    },
    "language_info": {
      "name": "python"
    }
  },
  "cells": [
    {
      "cell_type": "markdown",
      "metadata": {
        "id": "view-in-github",
        "colab_type": "text"
      },
      "source": [
        "<a href=\"https://colab.research.google.com/github/garrrry0806/AI-project/blob/main/google_map_geo.ipynb\" target=\"_parent\"><img src=\"https://colab.research.google.com/assets/colab-badge.svg\" alt=\"Open In Colab\"/></a>"
      ]
    },
    {
      "cell_type": "code",
      "metadata": {
        "colab": {
          "base_uri": "https://localhost:8080/"
        },
        "id": "jP_UUHohEpR8",
        "outputId": "b0188be8-87b6-4c1d-9889-1090f92675fb"
      },
      "source": [
        "pip install googlemaps"
      ],
      "execution_count": null,
      "outputs": [
        {
          "output_type": "stream",
          "text": [
            "Collecting googlemaps\n",
            "  Downloading https://files.pythonhosted.org/packages/32/d0/3e02a031197a6e9499833dd15edd92675097438569b24a1ca8f9904a1c69/googlemaps-4.4.5.tar.gz\n",
            "Requirement already satisfied: requests<3.0,>=2.20.0 in /usr/local/lib/python3.7/dist-packages (from googlemaps) (2.23.0)\n",
            "Requirement already satisfied: urllib3!=1.25.0,!=1.25.1,<1.26,>=1.21.1 in /usr/local/lib/python3.7/dist-packages (from requests<3.0,>=2.20.0->googlemaps) (1.24.3)\n",
            "Requirement already satisfied: idna<3,>=2.5 in /usr/local/lib/python3.7/dist-packages (from requests<3.0,>=2.20.0->googlemaps) (2.10)\n",
            "Requirement already satisfied: certifi>=2017.4.17 in /usr/local/lib/python3.7/dist-packages (from requests<3.0,>=2.20.0->googlemaps) (2020.12.5)\n",
            "Requirement already satisfied: chardet<4,>=3.0.2 in /usr/local/lib/python3.7/dist-packages (from requests<3.0,>=2.20.0->googlemaps) (3.0.4)\n",
            "Building wheels for collected packages: googlemaps\n",
            "  Building wheel for googlemaps (setup.py) ... \u001b[?25l\u001b[?25hdone\n",
            "  Created wheel for googlemaps: filename=googlemaps-4.4.5-cp37-none-any.whl size=37983 sha256=d2e1d48fe7113493a910e3adfee1cbc1d98433f93f81b5632dd3c4fbc495f479\n",
            "  Stored in directory: /root/.cache/pip/wheels/fb/24/33/51b0faba1170f6519eae3c51b6adbd9939296c73f54230b069\n",
            "Successfully built googlemaps\n",
            "Installing collected packages: googlemaps\n",
            "Successfully installed googlemaps-4.4.5\n"
          ],
          "name": "stdout"
        }
      ]
    },
    {
      "cell_type": "code",
      "metadata": {
        "id": "8mmHJjhlEyNu"
      },
      "source": [
        "# 載入 googlemaps ，輸入金鑰\n",
        "import googlemaps\n",
        "api_key = \"\"\n",
        "gmaps = googlemaps.Client(key=api_key)"
      ],
      "execution_count": null,
      "outputs": []
    },
    {
      "cell_type": "code",
      "metadata": {
        "id": "AZdTxJUVImcO"
      },
      "source": [
        "# 查詢目標的詳細地理資訊（可輸入中文）\n",
        "seach_target = input(\"查詢地址：\\n\")\n",
        "geocode_result = gmaps.geocode(seach_target)\n",
        "geocode_result[0]"
      ],
      "execution_count": null,
      "outputs": []
    },
    {
      "cell_type": "code",
      "metadata": {
        "id": "DJMLhRkkLTOQ"
      },
      "source": [
        "# 將輸入地點轉為經緯度\n",
        "seach_target = input(\"查詢地址：\\n\")\n",
        "geocode_result = gmaps.geocode(seach_target)\n",
        "lat = geocode_result[0][\"geometry\"][\"location\"][\"lat\"]\n",
        "lng = geocode_result[0][\"geometry\"][\"location\"][\"lng\"]\n",
        "print(lat, lng)"
      ],
      "execution_count": null,
      "outputs": []
    }
  ]
}